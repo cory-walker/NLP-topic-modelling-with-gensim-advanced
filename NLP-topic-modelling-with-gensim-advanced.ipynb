{
 "metadata": {
  "language_info": {
   "codemirror_mode": {
    "name": "ipython",
    "version": 3
   },
   "file_extension": ".py",
   "mimetype": "text/x-python",
   "name": "python",
   "nbconvert_exporter": "python",
   "pygments_lexer": "ipython3",
   "version": "3.9.4"
  },
  "orig_nbformat": 2,
  "kernelspec": {
   "name": "python394jvsc74a57bd02647ea34e536f865ab67ff9ddee7fd78773d956cec0cab53c79b32cd10da5d83",
   "display_name": "Python 3.9.4 64-bit"
  }
 },
 "nbformat": 4,
 "nbformat_minor": 2,
 "cells": [
  {
   "source": [
    "Original tutorial: https://www.tutorialspoint.com/gensim/gensim_creating_lda_topic_model.htm<br>\n",
    "Secondary tutorial: https://radimrehurek.com/gensim/models/ldamodel.html"
   ],
   "cell_type": "markdown",
   "metadata": {}
  },
  {
   "cell_type": "code",
   "execution_count": 4,
   "metadata": {},
   "outputs": [],
   "source": [
    "import warnings\n",
    "warnings.filterwarnings('ignore') #There is deprication warnings using VSCode I would rather avoid\n",
    "\n",
    "import re\n",
    "import numpy as np \n",
    "import pandas as pd \n",
    "import gensim\n",
    "import gensim.corpora as corpora\n",
    "import os\n",
    "\n",
    "from gensim.utils import simple_preprocess\n",
    "from gensim.models import CoherenceModel\n",
    "\n",
    "\n",
    "import spacy\n",
    "import pyLDAvis\n",
    "import pyLDAvis.gensim_models\n",
    "import matplotlib.pyplot as plt \n",
    "\n",
    "from sklearn.datasets import fetch_20newsgroups\n",
    "\n",
    "newsgroups_train = fetch_20newsgroups(subset='train')\n",
    "nlp = spacy.load('en_core_web_md', disable=['parser', 'ner'])"
   ]
  },
  {
   "cell_type": "code",
   "execution_count": 5,
   "metadata": {},
   "outputs": [],
   "source": [
    "from nltk.corpus import stopwords\n",
    "stop_words = stopwords.words('english')\n",
    "stop_words.extend(['from','subject','re','edu','use'])"
   ]
  },
  {
   "cell_type": "code",
   "execution_count": 6,
   "metadata": {},
   "outputs": [],
   "source": [
    "def clean_data(data):\n",
    "    data = [re.sub('\\S*@\\Ss?', '', sent) for sent in data]\n",
    "    data = [re.sub('\\s+', ' ', sent) for sent in data]\n",
    "    data = [re.sub(\"\\'\",\"\",sent) for sent in data]\n",
    "    return data\n",
    "\n",
    "def sent_to_words(sentences):\n",
    "    for sentence in sentences:\n",
    "        yield(gensim.utils.simple_preprocess(str(sentence), deacc=True))\n",
    "\n",
    "data = clean_data(newsgroups_train.data)\n",
    "data_words = list(sent_to_words(data))"
   ]
  },
  {
   "cell_type": "code",
   "execution_count": 7,
   "metadata": {},
   "outputs": [],
   "source": [
    "bigram = gensim.models.Phrases(data_words, min_count=5, threshold=100)\n",
    "trigram = gensim.models.Phrases(bigram[data_words], threshold=100)\n",
    "bigram_mod = gensim.models.phrases.Phraser(bigram)\n",
    "trigram_mod = gensim.models.phrases.Phraser(trigram)"
   ]
  },
  {
   "cell_type": "code",
   "execution_count": 8,
   "metadata": {},
   "outputs": [],
   "source": [
    "def remove_stopwords(texts):\n",
    "    return [[word for word in simple_preprocess(str(doc)) if word not in stop_words] for doc in texts]\n",
    "\n",
    "def make_bigrams(texts):\n",
    "    return [bigram_mod[doc] for doc in texts]\n",
    "\n",
    "def make_trigrams(texts):\n",
    "    return [trigram_mod[bigram_mod[doc]] for doc in texts]\n",
    "\n",
    "def lemmatization(texts, allowed_postags=['NOUN','ADJ','VERB','ADV']):\n",
    "    texts_out = []\n",
    "    for sent in texts:\n",
    "        doc = nlp(\" \".join(sent))\n",
    "        texts_out.append([token.lemma_ for token in doc if token.pos_ in allowed_postags])\n",
    "    return texts_out\n",
    "\n",
    "data_words_nostops = remove_stopwords(data_words)\n",
    "data_words_bigrams = make_bigrams(data_words_nostops)\n",
    "data_lemmatized = lemmatization(data_words_bigrams)"
   ]
  },
  {
   "cell_type": "code",
   "execution_count": 9,
   "metadata": {},
   "outputs": [],
   "source": [
    "def build_or_load_lda_model(data,name,num_topics,folder='',passes=10):\n",
    "    model_name = name + \"_lda_t\" + str(num_topics)\n",
    "    if os.path.exists(folder + model_name):\n",
    "        lda_model = gensim.models.LdaModel.load(folder + model_name)\n",
    "        id2word = corpora.Dictionary.load(folder + model_name + '.id2word')\n",
    "        corpus = [id2word.doc2bow(text) for text in data]\n",
    "    else:\n",
    "        id2word = corpora.Dictionary(data)\n",
    "        corpus = [id2word.doc2bow(text) for text in data]\n",
    "\n",
    "        lda_model = gensim.models.ldamodel.LdaModel(\n",
    "            corpus=corpus\n",
    "            ,id2word=id2word\n",
    "            ,num_topics=num_topics\n",
    "            ,random_state=100\n",
    "            ,update_every=1\n",
    "            ,chunksize=100\n",
    "            ,passes=passes\n",
    "            ,alpha='auto'\n",
    "            ,per_word_topics=True\n",
    "        )\n",
    "        lda_model.save(folder + model_name)\n",
    "\n",
    "    return lda_model, id2word, corpus\n",
    "\n",
    "lda_model, id2word, corpus = build_or_load_lda_model(data_lemmatized,'20newsgroups', 20)"
   ]
  },
  {
   "cell_type": "code",
   "execution_count": 10,
   "metadata": {},
   "outputs": [
    {
     "output_type": "execute_result",
     "data": {
      "text/plain": [
       "[(4,\n",
       "  '0.067*\"cable\" + 0.049*\"sgi\" + 0.000*\"trunk\" + 0.000*\"jon\" + 0.000*\"wiring\"'),\n",
       " (7,\n",
       "  '0.090*\"m\" + 0.040*\"fi\" + 0.039*\"boy\" + 0.025*\"brave\" + 0.022*\"saturday\"'),\n",
       " (11,\n",
       "  '0.016*\"evidence\" + 0.011*\"case\" + 0.011*\"group\" + 0.010*\"book\" + 0.009*\"issue\"'),\n",
       " (8,\n",
       "  '0.033*\"say\" + 0.027*\"people\" + 0.019*\"god\" + 0.019*\"think\" + 0.014*\"believe\"'),\n",
       " (14,\n",
       "  '0.037*\"line\" + 0.036*\"com\" + 0.034*\"organization\" + 0.027*\"write\" + 0.022*\"get\"')]"
      ]
     },
     "metadata": {},
     "execution_count": 10
    }
   ],
   "source": [
    "#Print the topics\n",
    "lda_model.print_topics(num_topics=5, num_words=5)"
   ]
  },
  {
   "cell_type": "code",
   "execution_count": 11,
   "metadata": {},
   "outputs": [
    {
     "output_type": "stream",
     "name": "stdout",
     "text": [
      "Perplexity:  -14.069856195252791 \nCoherence Score:  nan\n"
     ]
    }
   ],
   "source": [
    "# Print some model stats\n",
    "coherence_model_lda = CoherenceModel(\n",
    "    model=lda_model, texts=data_lemmatized, dictionary=id2word, coherence='c_v'\n",
    ")\n",
    "coherence_lda = coherence_model_lda.get_coherence()\n",
    "\n",
    "print('Perplexity: ', lda_model.log_perplexity(corpus), '\\nCoherence Score: ', coherence_lda)"
   ]
  },
  {
   "cell_type": "code",
   "execution_count": 12,
   "metadata": {},
   "outputs": [],
   "source": [
    "# Visualize the model\n",
    "pyLDAvis.enable_notebook()\n",
    "vis = pyLDAvis.gensim_models.prepare(lda_model, corpus, id2word)\n",
    "pyLDAvis.save_html(vis, '20newsgroups_lda_model_vis.html')"
   ]
  },
  {
   "cell_type": "code",
   "execution_count": 13,
   "metadata": {},
   "outputs": [
    {
     "output_type": "stream",
     "name": "stdout",
     "text": [
      "([(2, 0.0650133), (3, 0.038348276), (6, 0.017036414), (8, 0.13890527), (9, 0.013866927), (10, 0.025442459), (11, 0.10610214), (13, 0.05552325), (14, 0.46662623), (17, 0.018005379)], [(99, [14, 2, 13]), (179, [14, 8, 11]), (23807, [])], [(99, [(2, 0.35902843), (13, 0.06872578), (14, 0.5721705)]), (179, [(8, 0.1282064), (11, 0.04465186), (14, 0.8271181)]), (23807, [])])\n"
     ]
    }
   ],
   "source": [
    "# Query the model using previously unseen texts\n",
    "other_texts = [\n",
    "    ['computer','time','graph']\n",
    "    ,['survey','response','eps']\n",
    "    ,['human','system','computer']\n",
    "]\n",
    "\n",
    "other_corpus = [id2word.doc2bow(text) for text in other_texts]\n",
    "vector = lda_model[other_corpus[0]]\n",
    "print(vector)"
   ]
  },
  {
   "cell_type": "code",
   "execution_count": 14,
   "metadata": {},
   "outputs": [
    {
     "output_type": "stream",
     "name": "stdout",
     "text": [
      "([(2, 0.06872439), (3, 0.037760653), (6, 0.016843285), (8, 0.138793), (9, 0.013720686), (10, 0.025108228), (11, 0.10827782), (13, 0.05364513), (14, 0.46468195), (17, 0.017797235)], [(99, [14, 2, 13]), (179, [14, 8, 11]), (23807, [])], [(99, [(2, 0.38405102), (13, 0.0454304), (14, 0.5704779)]), (179, [(8, 0.11922685), (11, 0.042411383), (14, 0.8383411)]), (23807, [])])\n"
     ]
    }
   ],
   "source": [
    "# update the model by incrementally training on the new corpus\n",
    "lda_model.update(other_corpus)\n",
    "vector = lda_model[other_corpus[0]]\n",
    "print(vector)"
   ]
  },
  {
   "source": [
    "### Determining the number of topics"
   ],
   "cell_type": "markdown",
   "metadata": {}
  },
  {
   "cell_type": "code",
   "execution_count": 15,
   "metadata": {},
   "outputs": [],
   "source": [
    "def coherence_values_computation(dictionary, corpus, texts, limit, start=2, step=3):\n",
    "    coherence_values = []\n",
    "    model_list = []\n",
    "    for num_topics in range(start, limit, step):\n",
    "        model = gensim.models.ldamodel.LdaModel(corpus=corpus, id2word=dictionary, num_topics=num_topics, passes=10)\n",
    "        model_list.append(model)\n",
    "        coherencemodel = CoherenceModel(model=model, texts=texts, dictionary=dictionary, coherence='c_v')\n",
    "        coherence_values.append(coherencemodel.get_coherence())\n",
    "    return model_list, coherence_values"
   ]
  },
  {
   "cell_type": "code",
   "execution_count": 16,
   "metadata": {},
   "outputs": [],
   "source": [
    "start=1; limit=50; step=10\n",
    "\n",
    "model_list, coherence_values = coherence_values_computation(\n",
    "    corpus=corpus\n",
    "    ,dictionary=id2word\n",
    "    ,texts=data_lemmatized\n",
    "    ,start=start, limit=limit, step=step\n",
    ")"
   ]
  },
  {
   "cell_type": "code",
   "execution_count": 17,
   "metadata": {},
   "outputs": [
    {
     "output_type": "display_data",
     "data": {
      "text/plain": "<Figure size 432x288 with 1 Axes>",
      "image/svg+xml": "<?xml version=\"1.0\" encoding=\"utf-8\" standalone=\"no\"?>\r\n<!DOCTYPE svg PUBLIC \"-//W3C//DTD SVG 1.1//EN\"\r\n  \"http://www.w3.org/Graphics/SVG/1.1/DTD/svg11.dtd\">\r\n<svg height=\"262.19625pt\" version=\"1.1\" viewBox=\"0 0 398.50625 262.19625\" width=\"398.50625pt\" xmlns=\"http://www.w3.org/2000/svg\" xmlns:xlink=\"http://www.w3.org/1999/xlink\">\r\n <metadata>\r\n  <rdf:RDF xmlns:cc=\"http://creativecommons.org/ns#\" xmlns:dc=\"http://purl.org/dc/elements/1.1/\" xmlns:rdf=\"http://www.w3.org/1999/02/22-rdf-syntax-ns#\">\r\n   <cc:Work>\r\n    <dc:type rdf:resource=\"http://purl.org/dc/dcmitype/StillImage\"/>\r\n    <dc:date>2021-05-22T22:45:25.319225</dc:date>\r\n    <dc:format>image/svg+xml</dc:format>\r\n    <dc:creator>\r\n     <cc:Agent>\r\n      <dc:title>Matplotlib v3.4.1, https://matplotlib.org/</dc:title>\r\n     </cc:Agent>\r\n    </dc:creator>\r\n   </cc:Work>\r\n  </rdf:RDF>\r\n </metadata>\r\n <defs>\r\n  <style type=\"text/css\">*{stroke-linecap:butt;stroke-linejoin:round;}</style>\r\n </defs>\r\n <g id=\"figure_1\">\r\n  <g id=\"patch_1\">\r\n   <path d=\"M 0 262.19625 \r\nL 398.50625 262.19625 \r\nL 398.50625 0 \r\nL 0 0 \r\nz\r\n\" style=\"fill:none;\"/>\r\n  </g>\r\n  <g id=\"axes_1\">\r\n   <g id=\"patch_2\">\r\n    <path d=\"M 56.50625 224.64 \r\nL 391.30625 224.64 \r\nL 391.30625 7.2 \r\nL 56.50625 7.2 \r\nz\r\n\" style=\"fill:#ffffff;\"/>\r\n   </g>\r\n   <g id=\"matplotlib.axis_1\">\r\n    <g id=\"xtick_1\">\r\n     <g id=\"line2d_1\">\r\n      <defs>\r\n       <path d=\"M 0 0 \r\nL 0 3.5 \r\n\" id=\"m1ec509e1c0\" style=\"stroke:#000000;stroke-width:0.8;\"/>\r\n      </defs>\r\n      <g>\r\n       <use style=\"stroke:#000000;stroke-width:0.8;\" x=\"64.115341\" xlink:href=\"#m1ec509e1c0\" y=\"224.64\"/>\r\n      </g>\r\n     </g>\r\n     <g id=\"text_1\">\r\n      <!-- 0 -->\r\n      <g transform=\"translate(60.934091 239.238438)scale(0.1 -0.1)\">\r\n       <defs>\r\n        <path d=\"M 2034 4250 \r\nQ 1547 4250 1301 3770 \r\nQ 1056 3291 1056 2328 \r\nQ 1056 1369 1301 889 \r\nQ 1547 409 2034 409 \r\nQ 2525 409 2770 889 \r\nQ 3016 1369 3016 2328 \r\nQ 3016 3291 2770 3770 \r\nQ 2525 4250 2034 4250 \r\nz\r\nM 2034 4750 \r\nQ 2819 4750 3233 4129 \r\nQ 3647 3509 3647 2328 \r\nQ 3647 1150 3233 529 \r\nQ 2819 -91 2034 -91 \r\nQ 1250 -91 836 529 \r\nQ 422 1150 422 2328 \r\nQ 422 3509 836 4129 \r\nQ 1250 4750 2034 4750 \r\nz\r\n\" id=\"DejaVuSans-30\" transform=\"scale(0.015625)\"/>\r\n       </defs>\r\n       <use xlink:href=\"#DejaVuSans-30\"/>\r\n      </g>\r\n     </g>\r\n    </g>\r\n    <g id=\"xtick_2\">\r\n     <g id=\"line2d_2\">\r\n      <g>\r\n       <use style=\"stroke:#000000;stroke-width:0.8;\" x=\"102.160795\" xlink:href=\"#m1ec509e1c0\" y=\"224.64\"/>\r\n      </g>\r\n     </g>\r\n     <g id=\"text_2\">\r\n      <!-- 5 -->\r\n      <g transform=\"translate(98.979545 239.238438)scale(0.1 -0.1)\">\r\n       <defs>\r\n        <path d=\"M 691 4666 \r\nL 3169 4666 \r\nL 3169 4134 \r\nL 1269 4134 \r\nL 1269 2991 \r\nQ 1406 3038 1543 3061 \r\nQ 1681 3084 1819 3084 \r\nQ 2600 3084 3056 2656 \r\nQ 3513 2228 3513 1497 \r\nQ 3513 744 3044 326 \r\nQ 2575 -91 1722 -91 \r\nQ 1428 -91 1123 -41 \r\nQ 819 9 494 109 \r\nL 494 744 \r\nQ 775 591 1075 516 \r\nQ 1375 441 1709 441 \r\nQ 2250 441 2565 725 \r\nQ 2881 1009 2881 1497 \r\nQ 2881 1984 2565 2268 \r\nQ 2250 2553 1709 2553 \r\nQ 1456 2553 1204 2497 \r\nQ 953 2441 691 2322 \r\nL 691 4666 \r\nz\r\n\" id=\"DejaVuSans-35\" transform=\"scale(0.015625)\"/>\r\n       </defs>\r\n       <use xlink:href=\"#DejaVuSans-35\"/>\r\n      </g>\r\n     </g>\r\n    </g>\r\n    <g id=\"xtick_3\">\r\n     <g id=\"line2d_3\">\r\n      <g>\r\n       <use style=\"stroke:#000000;stroke-width:0.8;\" x=\"140.20625\" xlink:href=\"#m1ec509e1c0\" y=\"224.64\"/>\r\n      </g>\r\n     </g>\r\n     <g id=\"text_3\">\r\n      <!-- 10 -->\r\n      <g transform=\"translate(133.84375 239.238438)scale(0.1 -0.1)\">\r\n       <defs>\r\n        <path d=\"M 794 531 \r\nL 1825 531 \r\nL 1825 4091 \r\nL 703 3866 \r\nL 703 4441 \r\nL 1819 4666 \r\nL 2450 4666 \r\nL 2450 531 \r\nL 3481 531 \r\nL 3481 0 \r\nL 794 0 \r\nL 794 531 \r\nz\r\n\" id=\"DejaVuSans-31\" transform=\"scale(0.015625)\"/>\r\n       </defs>\r\n       <use xlink:href=\"#DejaVuSans-31\"/>\r\n       <use x=\"63.623047\" xlink:href=\"#DejaVuSans-30\"/>\r\n      </g>\r\n     </g>\r\n    </g>\r\n    <g id=\"xtick_4\">\r\n     <g id=\"line2d_4\">\r\n      <g>\r\n       <use style=\"stroke:#000000;stroke-width:0.8;\" x=\"178.251705\" xlink:href=\"#m1ec509e1c0\" y=\"224.64\"/>\r\n      </g>\r\n     </g>\r\n     <g id=\"text_4\">\r\n      <!-- 15 -->\r\n      <g transform=\"translate(171.889205 239.238438)scale(0.1 -0.1)\">\r\n       <use xlink:href=\"#DejaVuSans-31\"/>\r\n       <use x=\"63.623047\" xlink:href=\"#DejaVuSans-35\"/>\r\n      </g>\r\n     </g>\r\n    </g>\r\n    <g id=\"xtick_5\">\r\n     <g id=\"line2d_5\">\r\n      <g>\r\n       <use style=\"stroke:#000000;stroke-width:0.8;\" x=\"216.297159\" xlink:href=\"#m1ec509e1c0\" y=\"224.64\"/>\r\n      </g>\r\n     </g>\r\n     <g id=\"text_5\">\r\n      <!-- 20 -->\r\n      <g transform=\"translate(209.934659 239.238438)scale(0.1 -0.1)\">\r\n       <defs>\r\n        <path d=\"M 1228 531 \r\nL 3431 531 \r\nL 3431 0 \r\nL 469 0 \r\nL 469 531 \r\nQ 828 903 1448 1529 \r\nQ 2069 2156 2228 2338 \r\nQ 2531 2678 2651 2914 \r\nQ 2772 3150 2772 3378 \r\nQ 2772 3750 2511 3984 \r\nQ 2250 4219 1831 4219 \r\nQ 1534 4219 1204 4116 \r\nQ 875 4013 500 3803 \r\nL 500 4441 \r\nQ 881 4594 1212 4672 \r\nQ 1544 4750 1819 4750 \r\nQ 2544 4750 2975 4387 \r\nQ 3406 4025 3406 3419 \r\nQ 3406 3131 3298 2873 \r\nQ 3191 2616 2906 2266 \r\nQ 2828 2175 2409 1742 \r\nQ 1991 1309 1228 531 \r\nz\r\n\" id=\"DejaVuSans-32\" transform=\"scale(0.015625)\"/>\r\n       </defs>\r\n       <use xlink:href=\"#DejaVuSans-32\"/>\r\n       <use x=\"63.623047\" xlink:href=\"#DejaVuSans-30\"/>\r\n      </g>\r\n     </g>\r\n    </g>\r\n    <g id=\"xtick_6\">\r\n     <g id=\"line2d_6\">\r\n      <g>\r\n       <use style=\"stroke:#000000;stroke-width:0.8;\" x=\"254.342614\" xlink:href=\"#m1ec509e1c0\" y=\"224.64\"/>\r\n      </g>\r\n     </g>\r\n     <g id=\"text_6\">\r\n      <!-- 25 -->\r\n      <g transform=\"translate(247.980114 239.238438)scale(0.1 -0.1)\">\r\n       <use xlink:href=\"#DejaVuSans-32\"/>\r\n       <use x=\"63.623047\" xlink:href=\"#DejaVuSans-35\"/>\r\n      </g>\r\n     </g>\r\n    </g>\r\n    <g id=\"xtick_7\">\r\n     <g id=\"line2d_7\">\r\n      <g>\r\n       <use style=\"stroke:#000000;stroke-width:0.8;\" x=\"292.388068\" xlink:href=\"#m1ec509e1c0\" y=\"224.64\"/>\r\n      </g>\r\n     </g>\r\n     <g id=\"text_7\">\r\n      <!-- 30 -->\r\n      <g transform=\"translate(286.025568 239.238438)scale(0.1 -0.1)\">\r\n       <defs>\r\n        <path d=\"M 2597 2516 \r\nQ 3050 2419 3304 2112 \r\nQ 3559 1806 3559 1356 \r\nQ 3559 666 3084 287 \r\nQ 2609 -91 1734 -91 \r\nQ 1441 -91 1130 -33 \r\nQ 819 25 488 141 \r\nL 488 750 \r\nQ 750 597 1062 519 \r\nQ 1375 441 1716 441 \r\nQ 2309 441 2620 675 \r\nQ 2931 909 2931 1356 \r\nQ 2931 1769 2642 2001 \r\nQ 2353 2234 1838 2234 \r\nL 1294 2234 \r\nL 1294 2753 \r\nL 1863 2753 \r\nQ 2328 2753 2575 2939 \r\nQ 2822 3125 2822 3475 \r\nQ 2822 3834 2567 4026 \r\nQ 2313 4219 1838 4219 \r\nQ 1578 4219 1281 4162 \r\nQ 984 4106 628 3988 \r\nL 628 4550 \r\nQ 988 4650 1302 4700 \r\nQ 1616 4750 1894 4750 \r\nQ 2613 4750 3031 4423 \r\nQ 3450 4097 3450 3541 \r\nQ 3450 3153 3228 2886 \r\nQ 3006 2619 2597 2516 \r\nz\r\n\" id=\"DejaVuSans-33\" transform=\"scale(0.015625)\"/>\r\n       </defs>\r\n       <use xlink:href=\"#DejaVuSans-33\"/>\r\n       <use x=\"63.623047\" xlink:href=\"#DejaVuSans-30\"/>\r\n      </g>\r\n     </g>\r\n    </g>\r\n    <g id=\"xtick_8\">\r\n     <g id=\"line2d_8\">\r\n      <g>\r\n       <use style=\"stroke:#000000;stroke-width:0.8;\" x=\"330.433523\" xlink:href=\"#m1ec509e1c0\" y=\"224.64\"/>\r\n      </g>\r\n     </g>\r\n     <g id=\"text_8\">\r\n      <!-- 35 -->\r\n      <g transform=\"translate(324.071023 239.238438)scale(0.1 -0.1)\">\r\n       <use xlink:href=\"#DejaVuSans-33\"/>\r\n       <use x=\"63.623047\" xlink:href=\"#DejaVuSans-35\"/>\r\n      </g>\r\n     </g>\r\n    </g>\r\n    <g id=\"xtick_9\">\r\n     <g id=\"line2d_9\">\r\n      <g>\r\n       <use style=\"stroke:#000000;stroke-width:0.8;\" x=\"368.478977\" xlink:href=\"#m1ec509e1c0\" y=\"224.64\"/>\r\n      </g>\r\n     </g>\r\n     <g id=\"text_9\">\r\n      <!-- 40 -->\r\n      <g transform=\"translate(362.116477 239.238438)scale(0.1 -0.1)\">\r\n       <defs>\r\n        <path d=\"M 2419 4116 \r\nL 825 1625 \r\nL 2419 1625 \r\nL 2419 4116 \r\nz\r\nM 2253 4666 \r\nL 3047 4666 \r\nL 3047 1625 \r\nL 3713 1625 \r\nL 3713 1100 \r\nL 3047 1100 \r\nL 3047 0 \r\nL 2419 0 \r\nL 2419 1100 \r\nL 313 1100 \r\nL 313 1709 \r\nL 2253 4666 \r\nz\r\n\" id=\"DejaVuSans-34\" transform=\"scale(0.015625)\"/>\r\n       </defs>\r\n       <use xlink:href=\"#DejaVuSans-34\"/>\r\n       <use x=\"63.623047\" xlink:href=\"#DejaVuSans-30\"/>\r\n      </g>\r\n     </g>\r\n    </g>\r\n    <g id=\"text_10\">\r\n     <!-- Num Topics -->\r\n     <g transform=\"translate(195.357031 252.916563)scale(0.1 -0.1)\">\r\n      <defs>\r\n       <path d=\"M 628 4666 \r\nL 1478 4666 \r\nL 3547 763 \r\nL 3547 4666 \r\nL 4159 4666 \r\nL 4159 0 \r\nL 3309 0 \r\nL 1241 3903 \r\nL 1241 0 \r\nL 628 0 \r\nL 628 4666 \r\nz\r\n\" id=\"DejaVuSans-4e\" transform=\"scale(0.015625)\"/>\r\n       <path d=\"M 544 1381 \r\nL 544 3500 \r\nL 1119 3500 \r\nL 1119 1403 \r\nQ 1119 906 1312 657 \r\nQ 1506 409 1894 409 \r\nQ 2359 409 2629 706 \r\nQ 2900 1003 2900 1516 \r\nL 2900 3500 \r\nL 3475 3500 \r\nL 3475 0 \r\nL 2900 0 \r\nL 2900 538 \r\nQ 2691 219 2414 64 \r\nQ 2138 -91 1772 -91 \r\nQ 1169 -91 856 284 \r\nQ 544 659 544 1381 \r\nz\r\nM 1991 3584 \r\nL 1991 3584 \r\nz\r\n\" id=\"DejaVuSans-75\" transform=\"scale(0.015625)\"/>\r\n       <path d=\"M 3328 2828 \r\nQ 3544 3216 3844 3400 \r\nQ 4144 3584 4550 3584 \r\nQ 5097 3584 5394 3201 \r\nQ 5691 2819 5691 2113 \r\nL 5691 0 \r\nL 5113 0 \r\nL 5113 2094 \r\nQ 5113 2597 4934 2840 \r\nQ 4756 3084 4391 3084 \r\nQ 3944 3084 3684 2787 \r\nQ 3425 2491 3425 1978 \r\nL 3425 0 \r\nL 2847 0 \r\nL 2847 2094 \r\nQ 2847 2600 2669 2842 \r\nQ 2491 3084 2119 3084 \r\nQ 1678 3084 1418 2786 \r\nQ 1159 2488 1159 1978 \r\nL 1159 0 \r\nL 581 0 \r\nL 581 3500 \r\nL 1159 3500 \r\nL 1159 2956 \r\nQ 1356 3278 1631 3431 \r\nQ 1906 3584 2284 3584 \r\nQ 2666 3584 2933 3390 \r\nQ 3200 3197 3328 2828 \r\nz\r\n\" id=\"DejaVuSans-6d\" transform=\"scale(0.015625)\"/>\r\n       <path id=\"DejaVuSans-20\" transform=\"scale(0.015625)\"/>\r\n       <path d=\"M -19 4666 \r\nL 3928 4666 \r\nL 3928 4134 \r\nL 2272 4134 \r\nL 2272 0 \r\nL 1638 0 \r\nL 1638 4134 \r\nL -19 4134 \r\nL -19 4666 \r\nz\r\n\" id=\"DejaVuSans-54\" transform=\"scale(0.015625)\"/>\r\n       <path d=\"M 1959 3097 \r\nQ 1497 3097 1228 2736 \r\nQ 959 2375 959 1747 \r\nQ 959 1119 1226 758 \r\nQ 1494 397 1959 397 \r\nQ 2419 397 2687 759 \r\nQ 2956 1122 2956 1747 \r\nQ 2956 2369 2687 2733 \r\nQ 2419 3097 1959 3097 \r\nz\r\nM 1959 3584 \r\nQ 2709 3584 3137 3096 \r\nQ 3566 2609 3566 1747 \r\nQ 3566 888 3137 398 \r\nQ 2709 -91 1959 -91 \r\nQ 1206 -91 779 398 \r\nQ 353 888 353 1747 \r\nQ 353 2609 779 3096 \r\nQ 1206 3584 1959 3584 \r\nz\r\n\" id=\"DejaVuSans-6f\" transform=\"scale(0.015625)\"/>\r\n       <path d=\"M 1159 525 \r\nL 1159 -1331 \r\nL 581 -1331 \r\nL 581 3500 \r\nL 1159 3500 \r\nL 1159 2969 \r\nQ 1341 3281 1617 3432 \r\nQ 1894 3584 2278 3584 \r\nQ 2916 3584 3314 3078 \r\nQ 3713 2572 3713 1747 \r\nQ 3713 922 3314 415 \r\nQ 2916 -91 2278 -91 \r\nQ 1894 -91 1617 61 \r\nQ 1341 213 1159 525 \r\nz\r\nM 3116 1747 \r\nQ 3116 2381 2855 2742 \r\nQ 2594 3103 2138 3103 \r\nQ 1681 3103 1420 2742 \r\nQ 1159 2381 1159 1747 \r\nQ 1159 1113 1420 752 \r\nQ 1681 391 2138 391 \r\nQ 2594 391 2855 752 \r\nQ 3116 1113 3116 1747 \r\nz\r\n\" id=\"DejaVuSans-70\" transform=\"scale(0.015625)\"/>\r\n       <path d=\"M 603 3500 \r\nL 1178 3500 \r\nL 1178 0 \r\nL 603 0 \r\nL 603 3500 \r\nz\r\nM 603 4863 \r\nL 1178 4863 \r\nL 1178 4134 \r\nL 603 4134 \r\nL 603 4863 \r\nz\r\n\" id=\"DejaVuSans-69\" transform=\"scale(0.015625)\"/>\r\n       <path d=\"M 3122 3366 \r\nL 3122 2828 \r\nQ 2878 2963 2633 3030 \r\nQ 2388 3097 2138 3097 \r\nQ 1578 3097 1268 2742 \r\nQ 959 2388 959 1747 \r\nQ 959 1106 1268 751 \r\nQ 1578 397 2138 397 \r\nQ 2388 397 2633 464 \r\nQ 2878 531 3122 666 \r\nL 3122 134 \r\nQ 2881 22 2623 -34 \r\nQ 2366 -91 2075 -91 \r\nQ 1284 -91 818 406 \r\nQ 353 903 353 1747 \r\nQ 353 2603 823 3093 \r\nQ 1294 3584 2113 3584 \r\nQ 2378 3584 2631 3529 \r\nQ 2884 3475 3122 3366 \r\nz\r\n\" id=\"DejaVuSans-63\" transform=\"scale(0.015625)\"/>\r\n       <path d=\"M 2834 3397 \r\nL 2834 2853 \r\nQ 2591 2978 2328 3040 \r\nQ 2066 3103 1784 3103 \r\nQ 1356 3103 1142 2972 \r\nQ 928 2841 928 2578 \r\nQ 928 2378 1081 2264 \r\nQ 1234 2150 1697 2047 \r\nL 1894 2003 \r\nQ 2506 1872 2764 1633 \r\nQ 3022 1394 3022 966 \r\nQ 3022 478 2636 193 \r\nQ 2250 -91 1575 -91 \r\nQ 1294 -91 989 -36 \r\nQ 684 19 347 128 \r\nL 347 722 \r\nQ 666 556 975 473 \r\nQ 1284 391 1588 391 \r\nQ 1994 391 2212 530 \r\nQ 2431 669 2431 922 \r\nQ 2431 1156 2273 1281 \r\nQ 2116 1406 1581 1522 \r\nL 1381 1569 \r\nQ 847 1681 609 1914 \r\nQ 372 2147 372 2553 \r\nQ 372 3047 722 3315 \r\nQ 1072 3584 1716 3584 \r\nQ 2034 3584 2315 3537 \r\nQ 2597 3491 2834 3397 \r\nz\r\n\" id=\"DejaVuSans-73\" transform=\"scale(0.015625)\"/>\r\n      </defs>\r\n      <use xlink:href=\"#DejaVuSans-4e\"/>\r\n      <use x=\"74.804688\" xlink:href=\"#DejaVuSans-75\"/>\r\n      <use x=\"138.183594\" xlink:href=\"#DejaVuSans-6d\"/>\r\n      <use x=\"235.595703\" xlink:href=\"#DejaVuSans-20\"/>\r\n      <use x=\"267.382812\" xlink:href=\"#DejaVuSans-54\"/>\r\n      <use x=\"311.466797\" xlink:href=\"#DejaVuSans-6f\"/>\r\n      <use x=\"372.648438\" xlink:href=\"#DejaVuSans-70\"/>\r\n      <use x=\"436.125\" xlink:href=\"#DejaVuSans-69\"/>\r\n      <use x=\"463.908203\" xlink:href=\"#DejaVuSans-63\"/>\r\n      <use x=\"518.888672\" xlink:href=\"#DejaVuSans-73\"/>\r\n     </g>\r\n    </g>\r\n   </g>\r\n   <g id=\"matplotlib.axis_2\">\r\n    <g id=\"ytick_1\">\r\n     <g id=\"line2d_10\">\r\n      <defs>\r\n       <path d=\"M 0 0 \r\nL -3.5 0 \r\n\" id=\"mf88553e431\" style=\"stroke:#000000;stroke-width:0.8;\"/>\r\n      </defs>\r\n      <g>\r\n       <use style=\"stroke:#000000;stroke-width:0.8;\" x=\"56.50625\" xlink:href=\"#mf88553e431\" y=\"203.834925\"/>\r\n      </g>\r\n     </g>\r\n     <g id=\"text_11\">\r\n      <!-- 0.560 -->\r\n      <g transform=\"translate(20.878125 207.634143)scale(0.1 -0.1)\">\r\n       <defs>\r\n        <path d=\"M 684 794 \r\nL 1344 794 \r\nL 1344 0 \r\nL 684 0 \r\nL 684 794 \r\nz\r\n\" id=\"DejaVuSans-2e\" transform=\"scale(0.015625)\"/>\r\n        <path d=\"M 2113 2584 \r\nQ 1688 2584 1439 2293 \r\nQ 1191 2003 1191 1497 \r\nQ 1191 994 1439 701 \r\nQ 1688 409 2113 409 \r\nQ 2538 409 2786 701 \r\nQ 3034 994 3034 1497 \r\nQ 3034 2003 2786 2293 \r\nQ 2538 2584 2113 2584 \r\nz\r\nM 3366 4563 \r\nL 3366 3988 \r\nQ 3128 4100 2886 4159 \r\nQ 2644 4219 2406 4219 \r\nQ 1781 4219 1451 3797 \r\nQ 1122 3375 1075 2522 \r\nQ 1259 2794 1537 2939 \r\nQ 1816 3084 2150 3084 \r\nQ 2853 3084 3261 2657 \r\nQ 3669 2231 3669 1497 \r\nQ 3669 778 3244 343 \r\nQ 2819 -91 2113 -91 \r\nQ 1303 -91 875 529 \r\nQ 447 1150 447 2328 \r\nQ 447 3434 972 4092 \r\nQ 1497 4750 2381 4750 \r\nQ 2619 4750 2861 4703 \r\nQ 3103 4656 3366 4563 \r\nz\r\n\" id=\"DejaVuSans-36\" transform=\"scale(0.015625)\"/>\r\n       </defs>\r\n       <use xlink:href=\"#DejaVuSans-30\"/>\r\n       <use x=\"63.623047\" xlink:href=\"#DejaVuSans-2e\"/>\r\n       <use x=\"95.410156\" xlink:href=\"#DejaVuSans-35\"/>\r\n       <use x=\"159.033203\" xlink:href=\"#DejaVuSans-36\"/>\r\n       <use x=\"222.65625\" xlink:href=\"#DejaVuSans-30\"/>\r\n      </g>\r\n     </g>\r\n    </g>\r\n    <g id=\"ytick_2\">\r\n     <g id=\"line2d_11\">\r\n      <g>\r\n       <use style=\"stroke:#000000;stroke-width:0.8;\" x=\"56.50625\" xlink:href=\"#mf88553e431\" y=\"166.948407\"/>\r\n      </g>\r\n     </g>\r\n     <g id=\"text_12\">\r\n      <!-- 0.565 -->\r\n      <g transform=\"translate(20.878125 170.747625)scale(0.1 -0.1)\">\r\n       <use xlink:href=\"#DejaVuSans-30\"/>\r\n       <use x=\"63.623047\" xlink:href=\"#DejaVuSans-2e\"/>\r\n       <use x=\"95.410156\" xlink:href=\"#DejaVuSans-35\"/>\r\n       <use x=\"159.033203\" xlink:href=\"#DejaVuSans-36\"/>\r\n       <use x=\"222.65625\" xlink:href=\"#DejaVuSans-35\"/>\r\n      </g>\r\n     </g>\r\n    </g>\r\n    <g id=\"ytick_3\">\r\n     <g id=\"line2d_12\">\r\n      <g>\r\n       <use style=\"stroke:#000000;stroke-width:0.8;\" x=\"56.50625\" xlink:href=\"#mf88553e431\" y=\"130.061889\"/>\r\n      </g>\r\n     </g>\r\n     <g id=\"text_13\">\r\n      <!-- 0.570 -->\r\n      <g transform=\"translate(20.878125 133.861107)scale(0.1 -0.1)\">\r\n       <defs>\r\n        <path d=\"M 525 4666 \r\nL 3525 4666 \r\nL 3525 4397 \r\nL 1831 0 \r\nL 1172 0 \r\nL 2766 4134 \r\nL 525 4134 \r\nL 525 4666 \r\nz\r\n\" id=\"DejaVuSans-37\" transform=\"scale(0.015625)\"/>\r\n       </defs>\r\n       <use xlink:href=\"#DejaVuSans-30\"/>\r\n       <use x=\"63.623047\" xlink:href=\"#DejaVuSans-2e\"/>\r\n       <use x=\"95.410156\" xlink:href=\"#DejaVuSans-35\"/>\r\n       <use x=\"159.033203\" xlink:href=\"#DejaVuSans-37\"/>\r\n       <use x=\"222.65625\" xlink:href=\"#DejaVuSans-30\"/>\r\n      </g>\r\n     </g>\r\n    </g>\r\n    <g id=\"ytick_4\">\r\n     <g id=\"line2d_13\">\r\n      <g>\r\n       <use style=\"stroke:#000000;stroke-width:0.8;\" x=\"56.50625\" xlink:href=\"#mf88553e431\" y=\"93.175371\"/>\r\n      </g>\r\n     </g>\r\n     <g id=\"text_14\">\r\n      <!-- 0.575 -->\r\n      <g transform=\"translate(20.878125 96.974589)scale(0.1 -0.1)\">\r\n       <use xlink:href=\"#DejaVuSans-30\"/>\r\n       <use x=\"63.623047\" xlink:href=\"#DejaVuSans-2e\"/>\r\n       <use x=\"95.410156\" xlink:href=\"#DejaVuSans-35\"/>\r\n       <use x=\"159.033203\" xlink:href=\"#DejaVuSans-37\"/>\r\n       <use x=\"222.65625\" xlink:href=\"#DejaVuSans-35\"/>\r\n      </g>\r\n     </g>\r\n    </g>\r\n    <g id=\"ytick_5\">\r\n     <g id=\"line2d_14\">\r\n      <g>\r\n       <use style=\"stroke:#000000;stroke-width:0.8;\" x=\"56.50625\" xlink:href=\"#mf88553e431\" y=\"56.288852\"/>\r\n      </g>\r\n     </g>\r\n     <g id=\"text_15\">\r\n      <!-- 0.580 -->\r\n      <g transform=\"translate(20.878125 60.088071)scale(0.1 -0.1)\">\r\n       <defs>\r\n        <path d=\"M 2034 2216 \r\nQ 1584 2216 1326 1975 \r\nQ 1069 1734 1069 1313 \r\nQ 1069 891 1326 650 \r\nQ 1584 409 2034 409 \r\nQ 2484 409 2743 651 \r\nQ 3003 894 3003 1313 \r\nQ 3003 1734 2745 1975 \r\nQ 2488 2216 2034 2216 \r\nz\r\nM 1403 2484 \r\nQ 997 2584 770 2862 \r\nQ 544 3141 544 3541 \r\nQ 544 4100 942 4425 \r\nQ 1341 4750 2034 4750 \r\nQ 2731 4750 3128 4425 \r\nQ 3525 4100 3525 3541 \r\nQ 3525 3141 3298 2862 \r\nQ 3072 2584 2669 2484 \r\nQ 3125 2378 3379 2068 \r\nQ 3634 1759 3634 1313 \r\nQ 3634 634 3220 271 \r\nQ 2806 -91 2034 -91 \r\nQ 1263 -91 848 271 \r\nQ 434 634 434 1313 \r\nQ 434 1759 690 2068 \r\nQ 947 2378 1403 2484 \r\nz\r\nM 1172 3481 \r\nQ 1172 3119 1398 2916 \r\nQ 1625 2713 2034 2713 \r\nQ 2441 2713 2670 2916 \r\nQ 2900 3119 2900 3481 \r\nQ 2900 3844 2670 4047 \r\nQ 2441 4250 2034 4250 \r\nQ 1625 4250 1398 4047 \r\nQ 1172 3844 1172 3481 \r\nz\r\n\" id=\"DejaVuSans-38\" transform=\"scale(0.015625)\"/>\r\n       </defs>\r\n       <use xlink:href=\"#DejaVuSans-30\"/>\r\n       <use x=\"63.623047\" xlink:href=\"#DejaVuSans-2e\"/>\r\n       <use x=\"95.410156\" xlink:href=\"#DejaVuSans-35\"/>\r\n       <use x=\"159.033203\" xlink:href=\"#DejaVuSans-38\"/>\r\n       <use x=\"222.65625\" xlink:href=\"#DejaVuSans-30\"/>\r\n      </g>\r\n     </g>\r\n    </g>\r\n    <g id=\"ytick_6\">\r\n     <g id=\"line2d_15\">\r\n      <g>\r\n       <use style=\"stroke:#000000;stroke-width:0.8;\" x=\"56.50625\" xlink:href=\"#mf88553e431\" y=\"19.402334\"/>\r\n      </g>\r\n     </g>\r\n     <g id=\"text_16\">\r\n      <!-- 0.585 -->\r\n      <g transform=\"translate(20.878125 23.201553)scale(0.1 -0.1)\">\r\n       <use xlink:href=\"#DejaVuSans-30\"/>\r\n       <use x=\"63.623047\" xlink:href=\"#DejaVuSans-2e\"/>\r\n       <use x=\"95.410156\" xlink:href=\"#DejaVuSans-35\"/>\r\n       <use x=\"159.033203\" xlink:href=\"#DejaVuSans-38\"/>\r\n       <use x=\"222.65625\" xlink:href=\"#DejaVuSans-35\"/>\r\n      </g>\r\n     </g>\r\n    </g>\r\n    <g id=\"text_17\">\r\n     <!-- Coherence score -->\r\n     <g transform=\"translate(14.798437 157.752031)rotate(-90)scale(0.1 -0.1)\">\r\n      <defs>\r\n       <path d=\"M 4122 4306 \r\nL 4122 3641 \r\nQ 3803 3938 3442 4084 \r\nQ 3081 4231 2675 4231 \r\nQ 1875 4231 1450 3742 \r\nQ 1025 3253 1025 2328 \r\nQ 1025 1406 1450 917 \r\nQ 1875 428 2675 428 \r\nQ 3081 428 3442 575 \r\nQ 3803 722 4122 1019 \r\nL 4122 359 \r\nQ 3791 134 3420 21 \r\nQ 3050 -91 2638 -91 \r\nQ 1578 -91 968 557 \r\nQ 359 1206 359 2328 \r\nQ 359 3453 968 4101 \r\nQ 1578 4750 2638 4750 \r\nQ 3056 4750 3426 4639 \r\nQ 3797 4528 4122 4306 \r\nz\r\n\" id=\"DejaVuSans-43\" transform=\"scale(0.015625)\"/>\r\n       <path d=\"M 3513 2113 \r\nL 3513 0 \r\nL 2938 0 \r\nL 2938 2094 \r\nQ 2938 2591 2744 2837 \r\nQ 2550 3084 2163 3084 \r\nQ 1697 3084 1428 2787 \r\nQ 1159 2491 1159 1978 \r\nL 1159 0 \r\nL 581 0 \r\nL 581 4863 \r\nL 1159 4863 \r\nL 1159 2956 \r\nQ 1366 3272 1645 3428 \r\nQ 1925 3584 2291 3584 \r\nQ 2894 3584 3203 3211 \r\nQ 3513 2838 3513 2113 \r\nz\r\n\" id=\"DejaVuSans-68\" transform=\"scale(0.015625)\"/>\r\n       <path d=\"M 3597 1894 \r\nL 3597 1613 \r\nL 953 1613 \r\nQ 991 1019 1311 708 \r\nQ 1631 397 2203 397 \r\nQ 2534 397 2845 478 \r\nQ 3156 559 3463 722 \r\nL 3463 178 \r\nQ 3153 47 2828 -22 \r\nQ 2503 -91 2169 -91 \r\nQ 1331 -91 842 396 \r\nQ 353 884 353 1716 \r\nQ 353 2575 817 3079 \r\nQ 1281 3584 2069 3584 \r\nQ 2775 3584 3186 3129 \r\nQ 3597 2675 3597 1894 \r\nz\r\nM 3022 2063 \r\nQ 3016 2534 2758 2815 \r\nQ 2500 3097 2075 3097 \r\nQ 1594 3097 1305 2825 \r\nQ 1016 2553 972 2059 \r\nL 3022 2063 \r\nz\r\n\" id=\"DejaVuSans-65\" transform=\"scale(0.015625)\"/>\r\n       <path d=\"M 2631 2963 \r\nQ 2534 3019 2420 3045 \r\nQ 2306 3072 2169 3072 \r\nQ 1681 3072 1420 2755 \r\nQ 1159 2438 1159 1844 \r\nL 1159 0 \r\nL 581 0 \r\nL 581 3500 \r\nL 1159 3500 \r\nL 1159 2956 \r\nQ 1341 3275 1631 3429 \r\nQ 1922 3584 2338 3584 \r\nQ 2397 3584 2469 3576 \r\nQ 2541 3569 2628 3553 \r\nL 2631 2963 \r\nz\r\n\" id=\"DejaVuSans-72\" transform=\"scale(0.015625)\"/>\r\n       <path d=\"M 3513 2113 \r\nL 3513 0 \r\nL 2938 0 \r\nL 2938 2094 \r\nQ 2938 2591 2744 2837 \r\nQ 2550 3084 2163 3084 \r\nQ 1697 3084 1428 2787 \r\nQ 1159 2491 1159 1978 \r\nL 1159 0 \r\nL 581 0 \r\nL 581 3500 \r\nL 1159 3500 \r\nL 1159 2956 \r\nQ 1366 3272 1645 3428 \r\nQ 1925 3584 2291 3584 \r\nQ 2894 3584 3203 3211 \r\nQ 3513 2838 3513 2113 \r\nz\r\n\" id=\"DejaVuSans-6e\" transform=\"scale(0.015625)\"/>\r\n      </defs>\r\n      <use xlink:href=\"#DejaVuSans-43\"/>\r\n      <use x=\"69.824219\" xlink:href=\"#DejaVuSans-6f\"/>\r\n      <use x=\"131.005859\" xlink:href=\"#DejaVuSans-68\"/>\r\n      <use x=\"194.384766\" xlink:href=\"#DejaVuSans-65\"/>\r\n      <use x=\"255.908203\" xlink:href=\"#DejaVuSans-72\"/>\r\n      <use x=\"294.771484\" xlink:href=\"#DejaVuSans-65\"/>\r\n      <use x=\"356.294922\" xlink:href=\"#DejaVuSans-6e\"/>\r\n      <use x=\"419.673828\" xlink:href=\"#DejaVuSans-63\"/>\r\n      <use x=\"474.654297\" xlink:href=\"#DejaVuSans-65\"/>\r\n      <use x=\"536.177734\" xlink:href=\"#DejaVuSans-20\"/>\r\n      <use x=\"567.964844\" xlink:href=\"#DejaVuSans-73\"/>\r\n      <use x=\"620.064453\" xlink:href=\"#DejaVuSans-63\"/>\r\n      <use x=\"675.044922\" xlink:href=\"#DejaVuSans-6f\"/>\r\n      <use x=\"736.226562\" xlink:href=\"#DejaVuSans-72\"/>\r\n      <use x=\"775.089844\" xlink:href=\"#DejaVuSans-65\"/>\r\n     </g>\r\n    </g>\r\n   </g>\r\n   <g id=\"line2d_16\">\r\n    <path clip-path=\"url(#p2939ed347d)\" d=\"M 71.724432 214.756364 \r\nL 147.815341 17.083636 \r\nL 223.90625 33.10395 \r\nL 299.997159 61.003564 \r\nL 376.088068 184.416598 \r\n\" style=\"fill:none;stroke:#1f77b4;stroke-linecap:square;stroke-width:1.5;\"/>\r\n   </g>\r\n   <g id=\"patch_3\">\r\n    <path d=\"M 56.50625 224.64 \r\nL 56.50625 7.2 \r\n\" style=\"fill:none;stroke:#000000;stroke-linecap:square;stroke-linejoin:miter;stroke-width:0.8;\"/>\r\n   </g>\r\n   <g id=\"patch_4\">\r\n    <path d=\"M 391.30625 224.64 \r\nL 391.30625 7.2 \r\n\" style=\"fill:none;stroke:#000000;stroke-linecap:square;stroke-linejoin:miter;stroke-width:0.8;\"/>\r\n   </g>\r\n   <g id=\"patch_5\">\r\n    <path d=\"M 56.50625 224.64 \r\nL 391.30625 224.64 \r\n\" style=\"fill:none;stroke:#000000;stroke-linecap:square;stroke-linejoin:miter;stroke-width:0.8;\"/>\r\n   </g>\r\n   <g id=\"patch_6\">\r\n    <path d=\"M 56.50625 7.2 \r\nL 391.30625 7.2 \r\n\" style=\"fill:none;stroke:#000000;stroke-linecap:square;stroke-linejoin:miter;stroke-width:0.8;\"/>\r\n   </g>\r\n   <g id=\"legend_1\">\r\n    <g id=\"patch_7\">\r\n     <path d=\"M 346.807813 29.878125 \r\nL 384.30625 29.878125 \r\nQ 386.30625 29.878125 386.30625 27.878125 \r\nL 386.30625 14.2 \r\nQ 386.30625 12.2 384.30625 12.2 \r\nL 346.807813 12.2 \r\nQ 344.807813 12.2 344.807813 14.2 \r\nL 344.807813 27.878125 \r\nQ 344.807813 29.878125 346.807813 29.878125 \r\nz\r\n\" style=\"fill:#ffffff;opacity:0.8;stroke:#cccccc;stroke-linejoin:miter;\"/>\r\n    </g>\r\n    <g id=\"line2d_17\">\r\n     <path d=\"M 348.807813 20.298438 \r\nL 368.807813 20.298438 \r\n\" style=\"fill:none;stroke:#1f77b4;stroke-linecap:square;stroke-width:1.5;\"/>\r\n    </g>\r\n    <g id=\"line2d_18\"/>\r\n    <g id=\"text_18\">\r\n     <!-- c -->\r\n     <g transform=\"translate(376.807813 23.798438)scale(0.1 -0.1)\">\r\n      <use xlink:href=\"#DejaVuSans-63\"/>\r\n     </g>\r\n    </g>\r\n   </g>\r\n  </g>\r\n </g>\r\n <defs>\r\n  <clipPath id=\"p2939ed347d\">\r\n   <rect height=\"217.44\" width=\"334.8\" x=\"56.50625\" y=\"7.2\"/>\r\n  </clipPath>\r\n </defs>\r\n</svg>\r\n",
      "image/png": "[encoded data removed]"
     },
     "metadata": {
      "needs_background": "light"
     }
    }
   ],
   "source": [
    "plt.plot(range(start,limit,step), coherence_values)\n",
    "plt.xlabel(\"Num Topics\")\n",
    "plt.ylabel(\"Coherence score\")\n",
    "plt.legend((\"coherence values\"), loc=\"best\")\n",
    "plt.show()"
   ]
  },
  {
   "cell_type": "code",
   "execution_count": 18,
   "metadata": {},
   "outputs": [
    {
     "output_type": "execute_result",
     "data": {
      "text/plain": [
       "[(22,\n",
       "  '0.018*\"god\" + 0.017*\"say\" + 0.013*\"do\" + 0.013*\"think\" + 0.012*\"believe\"'),\n",
       " (10,\n",
       "  '0.038*\"berkeley\" + 0.023*\"polygon\" + 0.023*\"do\" + 0.011*\"northeastern\" + 0.009*\"point\"'),\n",
       " (4,\n",
       "  '0.016*\"israeli\" + 0.015*\"jew\" + 0.012*\"arab\" + 0.012*\"war\" + 0.011*\"israel\"'),\n",
       " (27,\n",
       "  '0.067*\"bit\" + 0.017*\"block\" + 0.012*\"color\" + 0.012*\"fi\" + 0.011*\"fpu\"'),\n",
       " (26,\n",
       "  '0.016*\"gun\" + 0.010*\"car\" + 0.009*\"state\" + 0.008*\"make\" + 0.007*\"get\"')]"
      ]
     },
     "metadata": {},
     "execution_count": 18
    }
   ],
   "source": [
    "optimal_model = model_list[3]\n",
    "model_topics = optimal_model.show_topics(formatted=False)\n",
    "optimal_model.print_topics(num_topics=5, num_words=5)"
   ]
  },
  {
   "cell_type": "code",
   "execution_count": 19,
   "metadata": {},
   "outputs": [
    {
     "output_type": "execute_result",
     "data": {
      "text/plain": [
       "' UNDER CONSTRUCTION - 10% found to be good\\nimport random\\n\\nrand_corpus = random.sample(corpus, int(len(corpus) / 10))\\nstart=1; limit=50; step=10\\n\\nmodel_list, coherence_values = coherence_values_computation(\\n    corpus=rand_corpus\\n    ,dictionary=id2word\\n    ,texts=data_lemmatized\\n    ,start=start, limit=limit, step=step\\n)\\nplt.plot(range(start,limit,step), coherence_values)\\nplt.xlabel(\"Num Topics\")\\nplt.ylabel(\"Coherence score\")\\nplt.legend((\"coherence values\"), loc=\"best\")\\nplt.show()\\n'"
      ]
     },
     "metadata": {},
     "execution_count": 19
    }
   ],
   "source": [
    "''' UNDER CONSTRUCTION - 10% found to be good\n",
    "import random\n",
    "\n",
    "rand_corpus = random.sample(corpus, int(len(corpus) / 10))\n",
    "start=1; limit=50; step=10\n",
    "\n",
    "model_list, coherence_values = coherence_values_computation(\n",
    "    corpus=rand_corpus\n",
    "    ,dictionary=id2word\n",
    "    ,texts=data_lemmatized\n",
    "    ,start=start, limit=limit, step=step\n",
    ")\n",
    "plt.plot(range(start,limit,step), coherence_values)\n",
    "plt.xlabel(\"Num Topics\")\n",
    "plt.ylabel(\"Coherence score\")\n",
    "plt.legend((\"coherence values\"), loc=\"best\")\n",
    "plt.show()\n",
    "'''"
   ]
  },
  {
   "cell_type": "code",
   "execution_count": 20,
   "metadata": {},
   "outputs": [],
   "source": [
    "def dominant_topics(ldamodel=lda_model, corpus=corpus, texts=data):\n",
    "    sent_topics_df = pd.DataFrame()\n",
    "    \n",
    "    for i, row in enumerate(ldamodel[corpus]):\n",
    "        row = sorted(row, key=lambda x: (x[1]), reverse=True)\n",
    "\n",
    "        for j, (topic_num, prop_topic) in enumerate(row):\n",
    "            if j==0:\n",
    "                wp = ldamodel.show_topic(topic_num)\n",
    "                topic_keywords = \", \".join([word for word, prop in wp])\n",
    "                sent_topics_df = sent_topics_df.append(\n",
    "                    pd.Series([int(topic_num), round(prop_topic, 4), topic_keywords]), ignore_index=True\n",
    "                )\n",
    "            else:\n",
    "                break\n",
    "\n",
    "    sent_topics_df.columns = ['Dominant_Topic', 'Perc_Contribution', 'Topic_Keywords']\n",
    "    contents = pd.Series(texts)\n",
    "    sent_topics_df = pd.concat([sent_topics_df, contents], axis=1)\n",
    "    return sent_topics_df\n",
    "\n",
    "df_topic_sents_keywords = dominant_topics(ldamodel=optimal_model, corpus=corpus, texts=data)"
   ]
  },
  {
   "cell_type": "code",
   "execution_count": 21,
   "metadata": {},
   "outputs": [],
   "source": [
    "df_dominant_topic = df_topic_sents_keywords.reset_index()\n",
    "df_dominant_topic.columns = ['Document_No', 'Dominant_Topic', 'Topic_Perc_Contrib', 'Keywords', 'Text']"
   ]
  },
  {
   "cell_type": "code",
   "execution_count": 22,
   "metadata": {},
   "outputs": [
    {
     "output_type": "execute_result",
     "data": {
      "text/plain": [
       "    Document_No  Dominant_Topic  Topic_Perc_Contrib  \\\n",
       "0             0            21.0              0.6618   \n",
       "1             1            15.0              0.5798   \n",
       "2             2            21.0              0.5956   \n",
       "3             3            21.0              0.2948   \n",
       "4             4            12.0              0.3177   \n",
       "5             5            26.0              0.6093   \n",
       "6             6            16.0              0.3698   \n",
       "7             7            15.0              0.9137   \n",
       "8             8            12.0              0.8972   \n",
       "9             9            21.0              0.4292   \n",
       "10           10            21.0              0.5224   \n",
       "11           11            22.0              0.4777   \n",
       "12           12            21.0              0.3960   \n",
       "13           13             9.0              0.4881   \n",
       "14           14            16.0              0.4694   \n",
       "\n",
       "                                             Keywords  \\\n",
       "0   do, get, write, com, line, organization, artic...   \n",
       "1   line, organization, drive, card, system, use, ...   \n",
       "2   do, get, write, com, line, organization, artic...   \n",
       "3   do, get, write, com, line, organization, artic...   \n",
       "4   window, file, program, use, line, com, image, ...   \n",
       "5   gun, car, state, make, get, do, go, president,...   \n",
       "6   organization, line, mail, university, nntp_pos...   \n",
       "7   line, organization, drive, card, system, use, ...   \n",
       "8   window, file, program, use, line, com, image, ...   \n",
       "9   do, get, write, com, line, organization, artic...   \n",
       "10  do, get, write, com, line, organization, artic...   \n",
       "11  god, say, do, think, believe, people, make, kn...   \n",
       "12  do, get, write, com, line, organization, artic...   \n",
       "13  space, nasa, launch, earth, moon, satellite, s...   \n",
       "14  organization, line, mail, university, nntp_pos...   \n",
       "\n",
       "                                                 Text  \n",
       "0   From: am.umd.edu (wheres my thing) Subject: WH...  \n",
       "1   From: arson.u.washington.edu (Guy Kuo) Subject...  \n",
       "2   From: c.ecn.purdue.edu (Thomas E Willis) Subje...  \n",
       "3   From: mber (Joe Green) Subject: Re: Weitek P90...  \n",
       "4   From: ead-cfa.harvard.edu (Jonathan McDowell) ...  \n",
       "5   From: ttoulu.tko.vtt.fi (Foxvog Douglas) Subje...  \n",
       "6   From: uads.uchicago.edu (brian manning delaney...  \n",
       "7   From: ante.nmsu.edu (GRUBB) Subject: Re: IDE v...  \n",
       "8   From: csvax.uni.edu Subject: WIn 3.0 ICON HELP...  \n",
       "9   From: x1.cso.uiuc.edu (Stan Kerr) Subject: Re:...  \n",
       "10  From: mptrc.lonestar.org (Irwin Arnstein) Subj...  \n",
       "11  From: erminus.ericsson.se (David Bold) Subject...  \n",
       "12  From: c.hp.com (Rod Cerkoney) Subject: *$G4qxF...  \n",
       "13  From: m0006.lerc.nasa.gov (David B. Mckissock)...  \n",
       "14  From: csu.buffalo.edu (Johnny L Lee) Subject: ...  "
      ],
      "text/html": "<div>\n<style scoped>\n    .dataframe tbody tr th:only-of-type {\n        vertical-align: middle;\n    }\n\n    .dataframe tbody tr th {\n        vertical-align: top;\n    }\n\n    .dataframe thead th {\n        text-align: right;\n    }\n</style>\n<table border=\"1\" class=\"dataframe\">\n  <thead>\n    <tr style=\"text-align: right;\">\n      <th></th>\n      <th>Document_No</th>\n      <th>Dominant_Topic</th>\n      <th>Topic_Perc_Contrib</th>\n      <th>Keywords</th>\n      <th>Text</th>\n    </tr>\n  </thead>\n  <tbody>\n    <tr>\n      <th>0</th>\n      <td>0</td>\n      <td>21.0</td>\n      <td>0.6618</td>\n      <td>do, get, write, com, line, organization, artic...</td>\n      <td>From: am.umd.edu (wheres my thing) Subject: WH...</td>\n    </tr>\n    <tr>\n      <th>1</th>\n      <td>1</td>\n      <td>15.0</td>\n      <td>0.5798</td>\n      <td>line, organization, drive, card, system, use, ...</td>\n      <td>From: arson.u.washington.edu (Guy Kuo) Subject...</td>\n    </tr>\n    <tr>\n      <th>2</th>\n      <td>2</td>\n      <td>21.0</td>\n      <td>0.5956</td>\n      <td>do, get, write, com, line, organization, artic...</td>\n      <td>From: c.ecn.purdue.edu (Thomas E Willis) Subje...</td>\n    </tr>\n    <tr>\n      <th>3</th>\n      <td>3</td>\n      <td>21.0</td>\n      <td>0.2948</td>\n      <td>do, get, write, com, line, organization, artic...</td>\n      <td>From: mber (Joe Green) Subject: Re: Weitek P90...</td>\n    </tr>\n    <tr>\n      <th>4</th>\n      <td>4</td>\n      <td>12.0</td>\n      <td>0.3177</td>\n      <td>window, file, program, use, line, com, image, ...</td>\n      <td>From: ead-cfa.harvard.edu (Jonathan McDowell) ...</td>\n    </tr>\n    <tr>\n      <th>5</th>\n      <td>5</td>\n      <td>26.0</td>\n      <td>0.6093</td>\n      <td>gun, car, state, make, get, do, go, president,...</td>\n      <td>From: ttoulu.tko.vtt.fi (Foxvog Douglas) Subje...</td>\n    </tr>\n    <tr>\n      <th>6</th>\n      <td>6</td>\n      <td>16.0</td>\n      <td>0.3698</td>\n      <td>organization, line, mail, university, nntp_pos...</td>\n      <td>From: uads.uchicago.edu (brian manning delaney...</td>\n    </tr>\n    <tr>\n      <th>7</th>\n      <td>7</td>\n      <td>15.0</td>\n      <td>0.9137</td>\n      <td>line, organization, drive, card, system, use, ...</td>\n      <td>From: ante.nmsu.edu (GRUBB) Subject: Re: IDE v...</td>\n    </tr>\n    <tr>\n      <th>8</th>\n      <td>8</td>\n      <td>12.0</td>\n      <td>0.8972</td>\n      <td>window, file, program, use, line, com, image, ...</td>\n      <td>From: csvax.uni.edu Subject: WIn 3.0 ICON HELP...</td>\n    </tr>\n    <tr>\n      <th>9</th>\n      <td>9</td>\n      <td>21.0</td>\n      <td>0.4292</td>\n      <td>do, get, write, com, line, organization, artic...</td>\n      <td>From: x1.cso.uiuc.edu (Stan Kerr) Subject: Re:...</td>\n    </tr>\n    <tr>\n      <th>10</th>\n      <td>10</td>\n      <td>21.0</td>\n      <td>0.5224</td>\n      <td>do, get, write, com, line, organization, artic...</td>\n      <td>From: mptrc.lonestar.org (Irwin Arnstein) Subj...</td>\n    </tr>\n    <tr>\n      <th>11</th>\n      <td>11</td>\n      <td>22.0</td>\n      <td>0.4777</td>\n      <td>god, say, do, think, believe, people, make, kn...</td>\n      <td>From: erminus.ericsson.se (David Bold) Subject...</td>\n    </tr>\n    <tr>\n      <th>12</th>\n      <td>12</td>\n      <td>21.0</td>\n      <td>0.3960</td>\n      <td>do, get, write, com, line, organization, artic...</td>\n      <td>From: c.hp.com (Rod Cerkoney) Subject: *$G4qxF...</td>\n    </tr>\n    <tr>\n      <th>13</th>\n      <td>13</td>\n      <td>9.0</td>\n      <td>0.4881</td>\n      <td>space, nasa, launch, earth, moon, satellite, s...</td>\n      <td>From: m0006.lerc.nasa.gov (David B. Mckissock)...</td>\n    </tr>\n    <tr>\n      <th>14</th>\n      <td>14</td>\n      <td>16.0</td>\n      <td>0.4694</td>\n      <td>organization, line, mail, university, nntp_pos...</td>\n      <td>From: csu.buffalo.edu (Johnny L Lee) Subject: ...</td>\n    </tr>\n  </tbody>\n</table>\n</div>"
     },
     "metadata": {},
     "execution_count": 22
    }
   ],
   "source": [
    "df_dominant_topic.head(15)"
   ]
  },
  {
   "cell_type": "code",
   "execution_count": 23,
   "metadata": {},
   "outputs": [
    {
     "output_type": "execute_result",
     "data": {
      "text/plain": [
       "   Topic_Number  Contribution_Perc  \\\n",
       "0           0.0             0.9731   \n",
       "1           1.0             0.9899   \n",
       "2           2.0             0.9999   \n",
       "3           3.0             0.9261   \n",
       "4           4.0             0.9613   \n",
       "\n",
       "                                            Keywords  \\\n",
       "0  com, write, line, organization, article, nntp_...   \n",
       "1  game, team, play, player, line, win, go, organ...   \n",
       "2       ax, max, qax, vesa, mb, m, lg, pl_pl, kr, sl   \n",
       "3  people, group, law, post, write, article, orga...   \n",
       "4  israeli, jew, arab, war, israel, state, write,...   \n",
       "\n",
       "                                                Text  \n",
       "0  From: w.stratus.com (C. D. Tavares) Subject: R...  \n",
       "1  From: enon.Stanford.EDU (Nelson Lu) Subject: R...  \n",
       "2  Subject: roman.bmp 12/14 From: almon.usd.edu (...  \n",
       "3  From: nix.amherst.edu (Tim Pierce) Subject: Re...  \n",
       "4  Organization: The American University - Univer...  "
      ],
      "text/html": "<div>\n<style scoped>\n    .dataframe tbody tr th:only-of-type {\n        vertical-align: middle;\n    }\n\n    .dataframe tbody tr th {\n        vertical-align: top;\n    }\n\n    .dataframe thead th {\n        text-align: right;\n    }\n</style>\n<table border=\"1\" class=\"dataframe\">\n  <thead>\n    <tr style=\"text-align: right;\">\n      <th></th>\n      <th>Topic_Number</th>\n      <th>Contribution_Perc</th>\n      <th>Keywords</th>\n      <th>Text</th>\n    </tr>\n  </thead>\n  <tbody>\n    <tr>\n      <th>0</th>\n      <td>0.0</td>\n      <td>0.9731</td>\n      <td>com, write, line, organization, article, nntp_...</td>\n      <td>From: w.stratus.com (C. D. Tavares) Subject: R...</td>\n    </tr>\n    <tr>\n      <th>1</th>\n      <td>1.0</td>\n      <td>0.9899</td>\n      <td>game, team, play, player, line, win, go, organ...</td>\n      <td>From: enon.Stanford.EDU (Nelson Lu) Subject: R...</td>\n    </tr>\n    <tr>\n      <th>2</th>\n      <td>2.0</td>\n      <td>0.9999</td>\n      <td>ax, max, qax, vesa, mb, m, lg, pl_pl, kr, sl</td>\n      <td>Subject: roman.bmp 12/14 From: almon.usd.edu (...</td>\n    </tr>\n    <tr>\n      <th>3</th>\n      <td>3.0</td>\n      <td>0.9261</td>\n      <td>people, group, law, post, write, article, orga...</td>\n      <td>From: nix.amherst.edu (Tim Pierce) Subject: Re...</td>\n    </tr>\n    <tr>\n      <th>4</th>\n      <td>4.0</td>\n      <td>0.9613</td>\n      <td>israeli, jew, arab, war, israel, state, write,...</td>\n      <td>Organization: The American University - Univer...</td>\n    </tr>\n  </tbody>\n</table>\n</div>"
     },
     "metadata": {},
     "execution_count": 23
    }
   ],
   "source": [
    "sent_topics_sorteddf_mallet = pd.DataFrame()\n",
    "sent_topics_outdf_grpd = df_topic_sents_keywords.groupby('Dominant_Topic')\n",
    "for i, grp in sent_topics_outdf_grpd:\n",
    "    sent_topics_sorteddf_mallet = pd.concat([sent_topics_sorteddf_mallet,grp.sort_values(['Perc_Contribution'], ascending=[0]).head(1)], axis=0)\n",
    "sent_topics_sorteddf_mallet.reset_index(drop=True, inplace=True)\n",
    "sent_topics_sorteddf_mallet.columns = [\n",
    "   'Topic_Number', \"Contribution_Perc\", \"Keywords\", \"Text\"\n",
    "]\n",
    "sent_topics_sorteddf_mallet.head()"
   ]
  },
  {
   "cell_type": "code",
   "execution_count": 24,
   "metadata": {},
   "outputs": [
    {
     "output_type": "execute_result",
     "data": {
      "text/plain": [
       "         Dominant-Topic                                     Topic-Keywords  \\\n",
       "0.0                21.0  do, get, write, com, line, organization, artic...   \n",
       "1.0                15.0  line, organization, drive, card, system, use, ...   \n",
       "2.0                21.0  do, get, write, com, line, organization, artic...   \n",
       "3.0                21.0  do, get, write, com, line, organization, artic...   \n",
       "4.0                12.0  window, file, program, use, line, com, image, ...   \n",
       "...                 ...                                                ...   \n",
       "11309.0            28.0  food, disease, medical, patient, doctor, cause...   \n",
       "11310.0            15.0  line, organization, drive, card, system, use, ...   \n",
       "11311.0            15.0  line, organization, drive, card, system, use, ...   \n",
       "11312.0            20.0  year, run, well, hit, good, line, last, do, po...   \n",
       "11313.0            21.0  do, get, write, com, line, organization, artic...   \n",
       "\n",
       "         Num_Documents  Perc_Documents  \n",
       "0.0              745.0          0.0658  \n",
       "1.0              712.0          0.0629  \n",
       "2.0               10.0          0.0009  \n",
       "3.0              285.0          0.0252  \n",
       "4.0              298.0          0.0263  \n",
       "...                ...             ...  \n",
       "11309.0            NaN             NaN  \n",
       "11310.0            NaN             NaN  \n",
       "11311.0            NaN             NaN  \n",
       "11312.0            NaN             NaN  \n",
       "11313.0            NaN             NaN  \n",
       "\n",
       "[11314 rows x 4 columns]"
      ],
      "text/html": "<div>\n<style scoped>\n    .dataframe tbody tr th:only-of-type {\n        vertical-align: middle;\n    }\n\n    .dataframe tbody tr th {\n        vertical-align: top;\n    }\n\n    .dataframe thead th {\n        text-align: right;\n    }\n</style>\n<table border=\"1\" class=\"dataframe\">\n  <thead>\n    <tr style=\"text-align: right;\">\n      <th></th>\n      <th>Dominant-Topic</th>\n      <th>Topic-Keywords</th>\n      <th>Num_Documents</th>\n      <th>Perc_Documents</th>\n    </tr>\n  </thead>\n  <tbody>\n    <tr>\n      <th>0.0</th>\n      <td>21.0</td>\n      <td>do, get, write, com, line, organization, artic...</td>\n      <td>745.0</td>\n      <td>0.0658</td>\n    </tr>\n    <tr>\n      <th>1.0</th>\n      <td>15.0</td>\n      <td>line, organization, drive, card, system, use, ...</td>\n      <td>712.0</td>\n      <td>0.0629</td>\n    </tr>\n    <tr>\n      <th>2.0</th>\n      <td>21.0</td>\n      <td>do, get, write, com, line, organization, artic...</td>\n      <td>10.0</td>\n      <td>0.0009</td>\n    </tr>\n    <tr>\n      <th>3.0</th>\n      <td>21.0</td>\n      <td>do, get, write, com, line, organization, artic...</td>\n      <td>285.0</td>\n      <td>0.0252</td>\n    </tr>\n    <tr>\n      <th>4.0</th>\n      <td>12.0</td>\n      <td>window, file, program, use, line, com, image, ...</td>\n      <td>298.0</td>\n      <td>0.0263</td>\n    </tr>\n    <tr>\n      <th>...</th>\n      <td>...</td>\n      <td>...</td>\n      <td>...</td>\n      <td>...</td>\n    </tr>\n    <tr>\n      <th>11309.0</th>\n      <td>28.0</td>\n      <td>food, disease, medical, patient, doctor, cause...</td>\n      <td>NaN</td>\n      <td>NaN</td>\n    </tr>\n    <tr>\n      <th>11310.0</th>\n      <td>15.0</td>\n      <td>line, organization, drive, card, system, use, ...</td>\n      <td>NaN</td>\n      <td>NaN</td>\n    </tr>\n    <tr>\n      <th>11311.0</th>\n      <td>15.0</td>\n      <td>line, organization, drive, card, system, use, ...</td>\n      <td>NaN</td>\n      <td>NaN</td>\n    </tr>\n    <tr>\n      <th>11312.0</th>\n      <td>20.0</td>\n      <td>year, run, well, hit, good, line, last, do, po...</td>\n      <td>NaN</td>\n      <td>NaN</td>\n    </tr>\n    <tr>\n      <th>11313.0</th>\n      <td>21.0</td>\n      <td>do, get, write, com, line, organization, artic...</td>\n      <td>NaN</td>\n      <td>NaN</td>\n    </tr>\n  </tbody>\n</table>\n<p>11314 rows × 4 columns</p>\n</div>"
     },
     "metadata": {},
     "execution_count": 24
    }
   ],
   "source": [
    "topic_counts = df_topic_sents_keywords['Dominant_Topic'].value_counts()\n",
    "topic_contribution = round(topic_counts/topic_counts.sum(), 4)\n",
    "topic_num_keywords = df_topic_sents_keywords[['Dominant_Topic', 'Topic_Keywords']]\n",
    "df_dominant_topics = pd.concat(\n",
    "   [topic_num_keywords, topic_counts, topic_contribution], axis=1\n",
    ")\n",
    "df_dominant_topics.columns = [\n",
    "   'Dominant-Topic', 'Topic-Keywords', 'Num_Documents', 'Perc_Documents'\n",
    "]\n",
    "df_dominant_topics"
   ]
  },
  {
   "cell_type": "code",
   "execution_count": null,
   "metadata": {},
   "outputs": [],
   "source": []
  }
 ]
}